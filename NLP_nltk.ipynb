{
  "nbformat": 4,
  "nbformat_minor": 0,
  "metadata": {
    "colab": {
      "provenance": [],
      "authorship_tag": "ABX9TyOAbzGmfwIEvW9bdpkHs5xt",
      "include_colab_link": true
    },
    "kernelspec": {
      "name": "python3",
      "display_name": "Python 3"
    },
    "language_info": {
      "name": "python"
    }
  },
  "cells": [
    {
      "cell_type": "markdown",
      "metadata": {
        "id": "view-in-github",
        "colab_type": "text"
      },
      "source": [
        "<a href=\"https://colab.research.google.com/github/luizrhamada/NLP_applications/blob/main/NLP_nltk.ipynb\" target=\"_parent\"><img src=\"https://colab.research.google.com/assets/colab-badge.svg\" alt=\"Open In Colab\"/></a>"
      ]
    },
    {
      "cell_type": "markdown",
      "source": [
        "The token process is an elementar process in a NLP. After that, POS (Parts-of-Speech) Tagging add tags in each token if it's verb, substantive and adjetive, for example.\n",
        "\n",
        "There is many POS Tagging that could be find in NLP, for example: PROPN - property name; PUNT - punctuation.\n",
        "\n",
        "Lemmatizing (Lemma) brings each word in it's flection.\n",
        "\n",
        "Thus, we have: tokenization -> POS tagging -> Lemmatizing.\n",
        "\n",
        "Dependency Parsing: generate a number and from ther, a hierarquic vision between relation words is presented."
      ],
      "metadata": {
        "id": "gQVDjzspxCKi"
      }
    },
    {
      "cell_type": "code",
      "source": [
        "import string\n",
        "import nltk\n",
        "from nltk.corpus import stopwords\n",
        "from nltk.stem import PorterStemmer, WordNetLemmatizer, SnowballStemmer, LancasterStemmer\n",
        "from nltk.tokenize import word_tokenize, sent_tokenize\n",
        "from nltk.tag import pos_tag, pos_tag_sents"
      ],
      "metadata": {
        "id": "r_Cs2-Go2ywg"
      },
      "execution_count": 1,
      "outputs": []
    },
    {
      "cell_type": "markdown",
      "source": [
        "Baixando modelos"
      ],
      "metadata": {
        "id": "UlEQPy-f4d1X"
      }
    },
    {
      "cell_type": "code",
      "source": [
        "nltk.download(\"stopwords\")\n",
        "nltk.download(\"punkt\")\n",
        "nltk.download('punkt_tab')\n",
        "nltk.download(\"tagsets\")\n",
        "nltk.download(\"wordnet\")\n",
        "nltk.download(\"averaged_perceptron_tagger_eng\")\n",
        "nltk.download(\"maxent_ne_chunker\")\n",
        "nltk.download(\"words\")\n",
        "nltk.download(\"chunkers\")\n",
        "nltk.download(\"maxent_ne_chunker_tab\")\n",
        "nltk.download(\"english_ace_multiclass\")\n",
        "nltk.download('tagsets_json')"
      ],
      "metadata": {
        "colab": {
          "base_uri": "https://localhost:8080/",
          "height": 0
        },
        "id": "v5JnQnPU4V6O",
        "outputId": "c2ede884-76b1-47da-f638-5a8ae78fb730"
      },
      "execution_count": 14,
      "outputs": [
        {
          "output_type": "stream",
          "name": "stderr",
          "text": [
            "[nltk_data] Downloading package stopwords to /root/nltk_data...\n",
            "[nltk_data]   Package stopwords is already up-to-date!\n",
            "[nltk_data] Downloading package punkt to /root/nltk_data...\n",
            "[nltk_data]   Package punkt is already up-to-date!\n",
            "[nltk_data] Downloading package punkt_tab to /root/nltk_data...\n",
            "[nltk_data]   Package punkt_tab is already up-to-date!\n",
            "[nltk_data] Downloading package tagsets to /root/nltk_data...\n",
            "[nltk_data]   Package tagsets is already up-to-date!\n",
            "[nltk_data] Downloading package wordnet to /root/nltk_data...\n",
            "[nltk_data]   Package wordnet is already up-to-date!\n",
            "[nltk_data] Downloading package averaged_perceptron_tagger_eng to\n",
            "[nltk_data]     /root/nltk_data...\n",
            "[nltk_data]   Package averaged_perceptron_tagger_eng is already up-to-\n",
            "[nltk_data]       date!\n",
            "[nltk_data] Downloading package maxent_ne_chunker to\n",
            "[nltk_data]     /root/nltk_data...\n",
            "[nltk_data]   Package maxent_ne_chunker is already up-to-date!\n",
            "[nltk_data] Downloading package words to /root/nltk_data...\n",
            "[nltk_data]   Package words is already up-to-date!\n",
            "[nltk_data] Error loading chunkers: Package 'chunkers' not found in\n",
            "[nltk_data]     index\n",
            "[nltk_data] Downloading package maxent_ne_chunker_tab to\n",
            "[nltk_data]     /root/nltk_data...\n",
            "[nltk_data]   Package maxent_ne_chunker_tab is already up-to-date!\n",
            "[nltk_data] Error loading english_ace_multiclass: Package\n",
            "[nltk_data]     'english_ace_multiclass' not found in index\n",
            "[nltk_data] Downloading package tagsets_json to /root/nltk_data...\n",
            "[nltk_data]   Unzipping help/tagsets_json.zip.\n"
          ]
        },
        {
          "output_type": "execute_result",
          "data": {
            "text/plain": [
              "True"
            ]
          },
          "metadata": {},
          "execution_count": 14
        }
      ]
    },
    {
      "cell_type": "code",
      "source": [
        "text = '''A física estuda os fenômenos naturais e as leis que regem o universo.\n",
        "Por meio de experimentos e teorias, ela busca compreender desde o movimento dos\n",
        "corpos até a estrutura das partículas subatômicas. Suas descobertas têm\n",
        "aplicações práticas em diversas áreas, como engenharia, medicina e\n",
        "tecnologia.'''\n",
        "print(text)"
      ],
      "metadata": {
        "colab": {
          "base_uri": "https://localhost:8080/",
          "height": 0
        },
        "id": "PaFh6R_45ccR",
        "outputId": "6b9222aa-fbf9-4c6a-cd8c-c5cd5d9da927"
      },
      "execution_count": 3,
      "outputs": [
        {
          "output_type": "stream",
          "name": "stdout",
          "text": [
            "A física estuda os fenômenos naturais e as leis que regem o universo.\n",
            "Por meio de experimentos e teorias, ela busca compreender desde o movimento dos\n",
            "corpos até a estrutura das partículas subatômicas. Suas descobertas têm\n",
            "aplicações práticas em diversas áreas, como engenharia, medicina e\n",
            "tecnologia.\n"
          ]
        }
      ]
    },
    {
      "cell_type": "markdown",
      "source": [
        "Tokenizing a sentence"
      ],
      "metadata": {
        "id": "bChqiPXF6m-o"
      }
    },
    {
      "cell_type": "code",
      "source": [
        "sentenca = sent_tokenize(text, language=\"portuguese\")\n",
        "print(type(sentenca))\n",
        "print(sentenca)\n",
        "print(len(sentenca)) # 3\n",
        "\n",
        "tokens = word_tokenize(text, language=\"portuguese\")\n",
        "print(tokens)"
      ],
      "metadata": {
        "colab": {
          "base_uri": "https://localhost:8080/",
          "height": 0
        },
        "id": "KHm1NqNG6sjG",
        "outputId": "28783cf7-1b54-4d20-bd32-03ca36f5f07b"
      },
      "execution_count": 4,
      "outputs": [
        {
          "output_type": "stream",
          "name": "stdout",
          "text": [
            "<class 'list'>\n",
            "['A física estuda os fenômenos naturais e as leis que regem o universo.', 'Por meio de experimentos e teorias, ela busca compreender desde o movimento dos\\ncorpos até a estrutura das partículas subatômicas.', 'Suas descobertas têm\\naplicações práticas em diversas áreas, como engenharia, medicina e\\ntecnologia.']\n",
            "3\n",
            "['A', 'física', 'estuda', 'os', 'fenômenos', 'naturais', 'e', 'as', 'leis', 'que', 'regem', 'o', 'universo', '.', 'Por', 'meio', 'de', 'experimentos', 'e', 'teorias', ',', 'ela', 'busca', 'compreender', 'desde', 'o', 'movimento', 'dos', 'corpos', 'até', 'a', 'estrutura', 'das', 'partículas', 'subatômicas', '.', 'Suas', 'descobertas', 'têm', 'aplicações', 'práticas', 'em', 'diversas', 'áreas', ',', 'como', 'engenharia', ',', 'medicina', 'e', 'tecnologia', '.']\n"
          ]
        }
      ]
    },
    {
      "cell_type": "markdown",
      "source": [
        "Stop Words"
      ],
      "metadata": {
        "id": "68TThY8lDdm5"
      }
    },
    {
      "cell_type": "code",
      "source": [
        "stop = stopwords.words(\"portuguese\")\n",
        "print(stop) # many word no semantic value"
      ],
      "metadata": {
        "colab": {
          "base_uri": "https://localhost:8080/",
          "height": 0
        },
        "id": "ysS6UmMmDu7S",
        "outputId": "59b9bf88-145a-47b4-9190-41451e9bd917"
      },
      "execution_count": 5,
      "outputs": [
        {
          "output_type": "stream",
          "name": "stdout",
          "text": [
            "['a', 'à', 'ao', 'aos', 'aquela', 'aquelas', 'aquele', 'aqueles', 'aquilo', 'as', 'às', 'até', 'com', 'como', 'da', 'das', 'de', 'dela', 'delas', 'dele', 'deles', 'depois', 'do', 'dos', 'e', 'é', 'ela', 'elas', 'ele', 'eles', 'em', 'entre', 'era', 'eram', 'éramos', 'essa', 'essas', 'esse', 'esses', 'esta', 'está', 'estamos', 'estão', 'estar', 'estas', 'estava', 'estavam', 'estávamos', 'este', 'esteja', 'estejam', 'estejamos', 'estes', 'esteve', 'estive', 'estivemos', 'estiver', 'estivera', 'estiveram', 'estivéramos', 'estiverem', 'estivermos', 'estivesse', 'estivessem', 'estivéssemos', 'estou', 'eu', 'foi', 'fomos', 'for', 'fora', 'foram', 'fôramos', 'forem', 'formos', 'fosse', 'fossem', 'fôssemos', 'fui', 'há', 'haja', 'hajam', 'hajamos', 'hão', 'havemos', 'haver', 'hei', 'houve', 'houvemos', 'houver', 'houvera', 'houverá', 'houveram', 'houvéramos', 'houverão', 'houverei', 'houverem', 'houveremos', 'houveria', 'houveriam', 'houveríamos', 'houvermos', 'houvesse', 'houvessem', 'houvéssemos', 'isso', 'isto', 'já', 'lhe', 'lhes', 'mais', 'mas', 'me', 'mesmo', 'meu', 'meus', 'minha', 'minhas', 'muito', 'na', 'não', 'nas', 'nem', 'no', 'nos', 'nós', 'nossa', 'nossas', 'nosso', 'nossos', 'num', 'numa', 'o', 'os', 'ou', 'para', 'pela', 'pelas', 'pelo', 'pelos', 'por', 'qual', 'quando', 'que', 'quem', 'são', 'se', 'seja', 'sejam', 'sejamos', 'sem', 'ser', 'será', 'serão', 'serei', 'seremos', 'seria', 'seriam', 'seríamos', 'seu', 'seus', 'só', 'somos', 'sou', 'sua', 'suas', 'também', 'te', 'tem', 'tém', 'temos', 'tenha', 'tenham', 'tenhamos', 'tenho', 'terá', 'terão', 'terei', 'teremos', 'teria', 'teriam', 'teríamos', 'teu', 'teus', 'teve', 'tinha', 'tinham', 'tínhamos', 'tive', 'tivemos', 'tiver', 'tivera', 'tiveram', 'tivéramos', 'tiverem', 'tivermos', 'tivesse', 'tivessem', 'tivéssemos', 'tu', 'tua', 'tuas', 'um', 'uma', 'você', 'vocês', 'vos']\n"
          ]
        }
      ]
    },
    {
      "cell_type": "markdown",
      "source": [
        "Removing stop words from 'text'"
      ],
      "metadata": {
        "id": "3_YR8N7HED4I"
      }
    },
    {
      "cell_type": "code",
      "source": [
        "no_word_stopwords = [p for p in tokens if p not in stop]\n",
        "print(no_word_stopwords)\n",
        "\n",
        "print(len(tokens)) # 52\n",
        "print(len(no_word_stopwords)) # 36"
      ],
      "metadata": {
        "colab": {
          "base_uri": "https://localhost:8080/",
          "height": 0
        },
        "id": "dZXX0icEEJqn",
        "outputId": "88d9c9a9-cac1-42f9-c242-07439a59f564"
      },
      "execution_count": 6,
      "outputs": [
        {
          "output_type": "stream",
          "name": "stdout",
          "text": [
            "['A', 'física', 'estuda', 'fenômenos', 'naturais', 'leis', 'regem', 'universo', '.', 'Por', 'meio', 'experimentos', 'teorias', ',', 'busca', 'compreender', 'desde', 'movimento', 'corpos', 'estrutura', 'partículas', 'subatômicas', '.', 'Suas', 'descobertas', 'têm', 'aplicações', 'práticas', 'diversas', 'áreas', ',', 'engenharia', ',', 'medicina', 'tecnologia', '.']\n",
            "52\n",
            "36\n"
          ]
        }
      ]
    },
    {
      "cell_type": "markdown",
      "source": [
        "Removing punctuation"
      ],
      "metadata": {
        "id": "LdtMbrp1FkM1"
      }
    },
    {
      "cell_type": "code",
      "source": [
        "string.punctuation # !\"#$%&'()*+,-./:;<=>?@[\\]^_`{|}~\n",
        "\n",
        "no_punct = [p for p in no_word_stopwords if p not in string.punctuation]\n",
        "print(no_punct)"
      ],
      "metadata": {
        "colab": {
          "base_uri": "https://localhost:8080/",
          "height": 0
        },
        "id": "reCqauBxFnFp",
        "outputId": "4091a669-cbc0-4da2-8e0e-e79a387c4368"
      },
      "execution_count": 7,
      "outputs": [
        {
          "output_type": "stream",
          "name": "stdout",
          "text": [
            "['A', 'física', 'estuda', 'fenômenos', 'naturais', 'leis', 'regem', 'universo', 'Por', 'meio', 'experimentos', 'teorias', 'busca', 'compreender', 'desde', 'movimento', 'corpos', 'estrutura', 'partículas', 'subatômicas', 'Suas', 'descobertas', 'têm', 'aplicações', 'práticas', 'diversas', 'áreas', 'engenharia', 'medicina', 'tecnologia']\n"
          ]
        }
      ]
    },
    {
      "cell_type": "markdown",
      "source": [
        "Frequency of words"
      ],
      "metadata": {
        "id": "4zKtEnH2GmEz"
      }
    },
    {
      "cell_type": "code",
      "source": [
        "freq = nltk.FreqDist(no_punct)\n",
        "freq # FreqDist({'A': 1, 'física': 1, 'estuda': 1, 'fenômenos': 1, 'naturais': 1, 'leis': 1, 'regem': 1, 'universo': 1, 'Por': 1, 'meio': 1, ...})\n",
        "\n",
        "commom = freq.most_common(3)\n",
        "commom # [('A', 1), ('física', 1), ('estuda', 1)]"
      ],
      "metadata": {
        "colab": {
          "base_uri": "https://localhost:8080/",
          "height": 0
        },
        "id": "rLgDb06BGoyt",
        "outputId": "f2fa1ceb-106a-49bd-b2d7-6d923761977a"
      },
      "execution_count": 8,
      "outputs": [
        {
          "output_type": "execute_result",
          "data": {
            "text/plain": [
              "[('A', 1), ('física', 1), ('estuda', 1)]"
            ]
          },
          "metadata": {},
          "execution_count": 8
        }
      ]
    },
    {
      "cell_type": "markdown",
      "source": [
        "Stemmer - normalyzing words"
      ],
      "metadata": {
        "id": "s44AkYFl00cd"
      }
    },
    {
      "cell_type": "code",
      "source": [
        "stemmer = PorterStemmer()\n",
        "stemm1 = [stemmer.stem(word) for word in no_punct]\n",
        "# Comparing stem1 and no_punct\n",
        "print(no_punct)\n",
        "print(stemm1)"
      ],
      "metadata": {
        "colab": {
          "base_uri": "https://localhost:8080/",
          "height": 0
        },
        "id": "MnzXe2Y802Ya",
        "outputId": "f205b4c8-339b-4e24-fda9-c678d702d889"
      },
      "execution_count": 9,
      "outputs": [
        {
          "output_type": "stream",
          "name": "stdout",
          "text": [
            "['A', 'física', 'estuda', 'fenômenos', 'naturais', 'leis', 'regem', 'universo', 'Por', 'meio', 'experimentos', 'teorias', 'busca', 'compreender', 'desde', 'movimento', 'corpos', 'estrutura', 'partículas', 'subatômicas', 'Suas', 'descobertas', 'têm', 'aplicações', 'práticas', 'diversas', 'áreas', 'engenharia', 'medicina', 'tecnologia']\n",
            "['a', 'física', 'estuda', 'fenômeno', 'naturai', 'lei', 'regem', 'universo', 'por', 'meio', 'experimento', 'teoria', 'busca', 'compreend', 'desd', 'movimento', 'corpo', 'estrutura', 'partícula', 'subatômica', 'sua', 'descoberta', 'têm', 'aplicaçõ', 'prática', 'diversa', 'área', 'engenharia', 'medicina', 'tecnologia']\n"
          ]
        }
      ]
    },
    {
      "cell_type": "code",
      "source": [
        "stemmer2 = SnowballStemmer(\"portuguese\")\n",
        "stemm2 = [stemmer2.stem(word) for word in no_punct]\n",
        "# Comparing stem1 and no_punct\n",
        "print(no_punct)\n",
        "print(stemm2)"
      ],
      "metadata": {
        "colab": {
          "base_uri": "https://localhost:8080/",
          "height": 0
        },
        "id": "Zc21FEv32Lu_",
        "outputId": "821f817f-322c-43eb-ad90-27c15829a470"
      },
      "execution_count": 11,
      "outputs": [
        {
          "output_type": "stream",
          "name": "stdout",
          "text": [
            "['A', 'física', 'estuda', 'fenômenos', 'naturais', 'leis', 'regem', 'universo', 'Por', 'meio', 'experimentos', 'teorias', 'busca', 'compreender', 'desde', 'movimento', 'corpos', 'estrutura', 'partículas', 'subatômicas', 'Suas', 'descobertas', 'têm', 'aplicações', 'práticas', 'diversas', 'áreas', 'engenharia', 'medicina', 'tecnologia']\n",
            "['a', 'físic', 'estud', 'fenômen', 'natur', 'leis', 'reg', 'univers', 'por', 'mei', 'exper', 'teor', 'busc', 'compreend', 'desd', 'moviment', 'corp', 'estrutur', 'partícul', 'subatôm', 'suas', 'descobert', 'têm', 'aplic', 'prátic', 'divers', 'áre', 'engenh', 'medicin', 'tecnolog']\n"
          ]
        }
      ]
    },
    {
      "cell_type": "markdown",
      "source": [
        "Verifying POS tagging and attributing it's grammatical class"
      ],
      "metadata": {
        "id": "XiDKJSUp24r3"
      }
    },
    {
      "cell_type": "code",
      "source": [
        "nltk.help.upenn_tagset()\n",
        "\n",
        "pos = nltk.pos_tag(no_punct)\n",
        "print(pos)"
      ],
      "metadata": {
        "colab": {
          "base_uri": "https://localhost:8080/",
          "height": 0
        },
        "id": "ma0TI2LG2-6i",
        "outputId": "4f922c64-8cca-49b7-8ded-6262506a2bdf"
      },
      "execution_count": 16,
      "outputs": [
        {
          "output_type": "stream",
          "name": "stdout",
          "text": [
            "$: dollar\n",
            "    $ -$ --$ A$ C$ HK$ M$ NZ$ S$ U.S.$ US$\n",
            "'': closing quotation mark\n",
            "    ' ''\n",
            "(: opening parenthesis\n",
            "    ( [ {\n",
            "): closing parenthesis\n",
            "    ) ] }\n",
            ",: comma\n",
            "    ,\n",
            "--: dash\n",
            "    --\n",
            ".: sentence terminator\n",
            "    . ! ?\n",
            ":: colon or ellipsis\n",
            "    : ; ...\n",
            "CC: conjunction, coordinating\n",
            "    & 'n and both but either et for less minus neither nor or plus so\n",
            "    therefore times v. versus vs. whether yet\n",
            "CD: numeral, cardinal\n",
            "    mid-1890 nine-thirty forty-two one-tenth ten million 0.5 one forty-\n",
            "    seven 1987 twenty '79 zero two 78-degrees eighty-four IX '60s .025\n",
            "    fifteen 271,124 dozen quintillion DM2,000 ...\n",
            "DT: determiner\n",
            "    all an another any both del each either every half la many much nary\n",
            "    neither no some such that the them these this those\n",
            "EX: existential there\n",
            "    there\n",
            "FW: foreign word\n",
            "    gemeinschaft hund ich jeux habeas Haementeria Herr K'ang-si vous\n",
            "    lutihaw alai je jour objets salutaris fille quibusdam pas trop Monte\n",
            "    terram fiche oui corporis ...\n",
            "IN: preposition or conjunction, subordinating\n",
            "    astride among uppon whether out inside pro despite on by throughout\n",
            "    below within for towards near behind atop around if like until below\n",
            "    next into if beside ...\n",
            "JJ: adjective or numeral, ordinal\n",
            "    third ill-mannered pre-war regrettable oiled calamitous first separable\n",
            "    ectoplasmic battery-powered participatory fourth still-to-be-named\n",
            "    multilingual multi-disciplinary ...\n",
            "JJR: adjective, comparative\n",
            "    bleaker braver breezier briefer brighter brisker broader bumper busier\n",
            "    calmer cheaper choosier cleaner clearer closer colder commoner costlier\n",
            "    cozier creamier crunchier cuter ...\n",
            "JJS: adjective, superlative\n",
            "    calmest cheapest choicest classiest cleanest clearest closest commonest\n",
            "    corniest costliest crassest creepiest crudest cutest darkest deadliest\n",
            "    dearest deepest densest dinkiest ...\n",
            "LS: list item marker\n",
            "    A A. B B. C C. D E F First G H I J K One SP-44001 SP-44002 SP-44005\n",
            "    SP-44007 Second Third Three Two * a b c d first five four one six three\n",
            "    two\n",
            "MD: modal auxiliary\n",
            "    can cannot could couldn't dare may might must need ought shall should\n",
            "    shouldn't will would\n",
            "NN: noun, common, singular or mass\n",
            "    common-carrier cabbage knuckle-duster Casino afghan shed thermostat\n",
            "    investment slide humour falloff slick wind hyena override subhumanity\n",
            "    machinist ...\n",
            "NNP: noun, proper, singular\n",
            "    Motown Venneboerger Czestochwa Ranzer Conchita Trumplane Christos\n",
            "    Oceanside Escobar Kreisler Sawyer Cougar Yvette Ervin ODI Darryl CTCA\n",
            "    Shannon A.K.C. Meltex Liverpool ...\n",
            "NNPS: noun, proper, plural\n",
            "    Americans Americas Amharas Amityvilles Amusements Anarcho-Syndicalists\n",
            "    Andalusians Andes Andruses Angels Animals Anthony Antilles Antiques\n",
            "    Apache Apaches Apocrypha ...\n",
            "NNS: noun, common, plural\n",
            "    undergraduates scotches bric-a-brac products bodyguards facets coasts\n",
            "    divestitures storehouses designs clubs fragrances averages\n",
            "    subjectivists apprehensions muses factory-jobs ...\n",
            "PDT: pre-determiner\n",
            "    all both half many quite such sure this\n",
            "POS: genitive marker\n",
            "    ' 's\n",
            "PRP: pronoun, personal\n",
            "    hers herself him himself hisself it itself me myself one oneself ours\n",
            "    ourselves ownself self she thee theirs them themselves they thou thy us\n",
            "PRP$: pronoun, possessive\n",
            "    her his mine my our ours their thy your\n",
            "RB: adverb\n",
            "    occasionally unabatingly maddeningly adventurously professedly\n",
            "    stirringly prominently technologically magisterially predominately\n",
            "    swiftly fiscally pitilessly ...\n",
            "RBR: adverb, comparative\n",
            "    further gloomier grander graver greater grimmer harder harsher\n",
            "    healthier heavier higher however larger later leaner lengthier less-\n",
            "    perfectly lesser lonelier longer louder lower more ...\n",
            "RBS: adverb, superlative\n",
            "    best biggest bluntest earliest farthest first furthest hardest\n",
            "    heartiest highest largest least less most nearest second tightest worst\n",
            "RP: particle\n",
            "    aboard about across along apart around aside at away back before behind\n",
            "    by crop down ever fast for forth from go high i.e. in into just later\n",
            "    low more off on open out over per pie raising start teeth that through\n",
            "    under unto up up-pp upon whole with you\n",
            "SYM: symbol\n",
            "    % & ' '' ''. ) ). * + ,. < = > @ A[fj] U.S U.S.S.R * ** ***\n",
            "TO: \"to\" as preposition or infinitive marker\n",
            "    to\n",
            "UH: interjection\n",
            "    Goodbye Goody Gosh Wow Jeepers Jee-sus Hubba Hey Kee-reist Oops amen\n",
            "    huh howdy uh dammit whammo shucks heck anyways whodunnit honey golly\n",
            "    man baby diddle hush sonuvabitch ...\n",
            "VB: verb, base form\n",
            "    ask assemble assess assign assume atone attention avoid bake balkanize\n",
            "    bank begin behold believe bend benefit bevel beware bless boil bomb\n",
            "    boost brace break bring broil brush build ...\n",
            "VBD: verb, past tense\n",
            "    dipped pleaded swiped regummed soaked tidied convened halted registered\n",
            "    cushioned exacted snubbed strode aimed adopted belied figgered\n",
            "    speculated wore appreciated contemplated ...\n",
            "VBG: verb, present participle or gerund\n",
            "    telegraphing stirring focusing angering judging stalling lactating\n",
            "    hankerin' alleging veering capping approaching traveling besieging\n",
            "    encrypting interrupting erasing wincing ...\n",
            "VBN: verb, past participle\n",
            "    multihulled dilapidated aerosolized chaired languished panelized used\n",
            "    experimented flourished imitated reunifed factored condensed sheared\n",
            "    unsettled primed dubbed desired ...\n",
            "VBP: verb, present tense, not 3rd person singular\n",
            "    predominate wrap resort sue twist spill cure lengthen brush terminate\n",
            "    appear tend stray glisten obtain comprise detest tease attract\n",
            "    emphasize mold postpone sever return wag ...\n",
            "VBZ: verb, present tense, 3rd person singular\n",
            "    bases reconstructs marks mixes displeases seals carps weaves snatches\n",
            "    slumps stretches authorizes smolders pictures emerges stockpiles\n",
            "    seduces fizzes uses bolsters slaps speaks pleads ...\n",
            "WDT: WH-determiner\n",
            "    that what whatever which whichever\n",
            "WP: WH-pronoun\n",
            "    that what whatever whatsoever which who whom whosoever\n",
            "WP$: WH-pronoun, possessive\n",
            "    whose\n",
            "WRB: Wh-adverb\n",
            "    how however whence whenever where whereby whereever wherein whereof why\n",
            "``: opening quotation mark\n",
            "    ` ``\n",
            "[('A', 'DT'), ('física', 'JJ'), ('estuda', 'NN'), ('fenômenos', 'NNS'), ('naturais', 'VBP'), ('leis', 'JJ'), ('regem', 'NN'), ('universo', 'JJ'), ('Por', 'NNP'), ('meio', 'NN'), ('experimentos', 'NN'), ('teorias', 'NN'), ('busca', 'NN'), ('compreender', 'NN'), ('desde', 'NN'), ('movimento', 'NN'), ('corpos', 'NN'), ('estrutura', 'NN'), ('partículas', 'NNS'), ('subatômicas', 'VBP'), ('Suas', 'NNP'), ('descobertas', 'NNS'), ('têm', 'VBP'), ('aplicações', 'JJ'), ('práticas', 'NN'), ('diversas', 'NN'), ('áreas', 'NNP'), ('engenharia', 'NN'), ('medicina', 'NN'), ('tecnologia', 'NN')]\n"
          ]
        }
      ]
    },
    {
      "cell_type": "markdown",
      "source": [
        "Lemmatizyng"
      ],
      "metadata": {
        "id": "VBkLrLy65Fgn"
      }
    },
    {
      "cell_type": "code",
      "source": [
        "lemmat = WordNetLemmatizer()\n",
        "result_lemma = [lemmat.lemmatize(word) for word in no_word_stopwords]\n",
        "print(no_word_stopwords)\n",
        "print(result_lemma)"
      ],
      "metadata": {
        "colab": {
          "base_uri": "https://localhost:8080/",
          "height": 0
        },
        "id": "OqHW5BUX5IAS",
        "outputId": "bb2463f4-c607-4552-e44f-772691a8a568"
      },
      "execution_count": 17,
      "outputs": [
        {
          "output_type": "stream",
          "name": "stdout",
          "text": [
            "['A', 'física', 'estuda', 'fenômenos', 'naturais', 'leis', 'regem', 'universo', '.', 'Por', 'meio', 'experimentos', 'teorias', ',', 'busca', 'compreender', 'desde', 'movimento', 'corpos', 'estrutura', 'partículas', 'subatômicas', '.', 'Suas', 'descobertas', 'têm', 'aplicações', 'práticas', 'diversas', 'áreas', ',', 'engenharia', ',', 'medicina', 'tecnologia', '.']\n",
            "['A', 'física', 'estuda', 'fenômenos', 'naturais', 'lei', 'regem', 'universo', '.', 'Por', 'meio', 'experimentos', 'teorias', ',', 'busca', 'compreender', 'desde', 'movimento', 'corpos', 'estrutura', 'partículas', 'subatômicas', '.', 'Suas', 'descobertas', 'têm', 'aplicações', 'práticas', 'diversas', 'áreas', ',', 'engenharia', ',', 'medicina', 'tecnologia', '.']\n"
          ]
        }
      ]
    },
    {
      "cell_type": "markdown",
      "source": [
        "Entity named"
      ],
      "metadata": {
        "id": "Ch8BrQDZ6DZe"
      }
    },
    {
      "cell_type": "code",
      "source": [
        "text = \"Ser um programador me dará a liberdade que eu tanto desejo.\"\n",
        "token_text = word_tokenize(text)\n",
        "tagg = pos_tag(token_text)\n",
        "entity_named = nltk.ne_chunk(tagg)\n",
        "print(entity_named)"
      ],
      "metadata": {
        "colab": {
          "base_uri": "https://localhost:8080/"
        },
        "id": "C6UaCmhY6D_F",
        "outputId": "c06d8520-2a30-413b-c869-b7109a5129f6"
      },
      "execution_count": 19,
      "outputs": [
        {
          "output_type": "stream",
          "name": "stdout",
          "text": [
            "(S\n",
            "  (GPE Ser/NNP)\n",
            "  um/JJ\n",
            "  programador/NN\n",
            "  me/PRP\n",
            "  dará/VBZ\n",
            "  a/DT\n",
            "  liberdade/NN\n",
            "  que/NN\n",
            "  eu/NN\n",
            "  tanto/IN\n",
            "  desejo/NN\n",
            "  ./.)\n"
          ]
        }
      ]
    }
  ]
}